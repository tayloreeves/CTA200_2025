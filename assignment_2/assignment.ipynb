{
 "cells": [
  {
   "cell_type": "markdown",
   "id": "558fe8e9",
   "metadata": {},
   "source": [
    "##Assignment 2"
   ]
  },
  {
   "cell_type": "code",
   "execution_count": 43,
   "id": "a390f02e",
   "metadata": {},
   "outputs": [],
   "source": [
    "#Part 1 'Write a python function for the function and its derivative'\n",
    "\n",
    "def f(x):\n",
    "    \"\"\"\n",
    "    Returns the function desired.\n",
    "\n",
    "    Input: Any real floating number\n",
    "    Output: The value of the floating number at the function\n",
    "    \"\"\"\n",
    "    return x**3-x*2-1\n",
    "\n",
    "def df(x):\n",
    "    \"\"\"\n",
    "    Returns the function's derivative.\n",
    "    \n",
    "    Input: Any real floating number\n",
    "    Output: The value of the floating number at the derivative\n",
    "    \"\"\"\n",
    "    return 3*x**2-2*x\n"
   ]
  },
  {
   "cell_type": "code",
   "execution_count": 44,
   "id": "604a4b3a",
   "metadata": {},
   "outputs": [],
   "source": [
    "\n",
    "#Part 2 'performs a Newton Iteration of the function'\n",
    "\n",
    "def newton(f, df, x0, epsilon=1e-6, max_iter=30):\n",
    "    \"\"\"\n",
    "    Returns the Newton Iteration of the function.\n",
    "\n",
    "    Inputs:\n",
    "        f,df - The function and its derivative\n",
    "        x0 - Starting value for the iteration\n",
    "        epsilon = __ (optional) - Allows for the change of an epsilon value\n",
    "        max_iter = __ (optional) - Allows for the change of the maximum iterations for the funtion\n",
    "    Outputs:\n",
    "        If Newton Iteration Succeeds: Returns the root of the function f\n",
    "        If Newton Iteration Fails: Returns 'None'\n",
    "    \"\"\"\n",
    "    i = 0\n",
    "    xn = x0\n",
    "    while not(i<max_iter and abs(f(xn))<epsilon):\n",
    "        xn = xn - f(xn)/df(xn)\n",
    "        i += 1\n",
    "\n",
    "    if abs(f(xn)<epsilon):\n",
    "        print (\"Found root in \" + str(i) + \" iterations\")\n",
    "        return (xn)\n",
    "\n",
    "    if i >= max_iter:\n",
    "        print (\"Iteration Failed\")\n",
    "        return None\n",
    "    "
   ]
  },
  {
   "cell_type": "code",
   "execution_count": 45,
   "id": "a53412a2",
   "metadata": {},
   "outputs": [],
   "source": [
    "#Part 3, with 2 iterations of epsilon = 1e-6, and one iteration of epsilon = 1e-8"
   ]
  },
  {
   "cell_type": "code",
   "execution_count": 46,
   "id": "d7eeaa90",
   "metadata": {},
   "outputs": [
    {
     "name": "stdout",
     "output_type": "stream",
     "text": [
      "Found root in 13 iterations\n"
     ]
    },
    {
     "data": {
      "text/plain": [
       "1.6180341247352152"
      ]
     },
     "execution_count": 46,
     "metadata": {},
     "output_type": "execute_result"
    }
   ],
   "source": [
    "newton(f,df,6)"
   ]
  },
  {
   "cell_type": "code",
   "execution_count": 47,
   "id": "a7b94ea3",
   "metadata": {},
   "outputs": [
    {
     "name": "stdout",
     "output_type": "stream",
     "text": [
      "Found root in 24 iterations\n"
     ]
    },
    {
     "data": {
      "text/plain": [
       "1.6180341083923444"
      ]
     },
     "execution_count": 47,
     "metadata": {},
     "output_type": "execute_result"
    }
   ],
   "source": [
    "newton(f,df,500)"
   ]
  },
  {
   "cell_type": "code",
   "execution_count": 48,
   "id": "681d4dd4",
   "metadata": {},
   "outputs": [
    {
     "name": "stdout",
     "output_type": "stream",
     "text": [
      "Found root in 28 iterations\n"
     ]
    },
    {
     "data": {
      "text/plain": [
       "1.6180339893639764"
      ]
     },
     "execution_count": 48,
     "metadata": {},
     "output_type": "execute_result"
    }
   ],
   "source": [
    "newton(f,df,500,epsilon=1e-8)"
   ]
  },
  {
   "cell_type": "code",
   "execution_count": null,
   "id": "9aa0bb70",
   "metadata": {},
   "outputs": [],
   "source": [
    "#Upon changing the epsilon value to be 1e-8, the solver takes 4 more iterations to find a suitable answer."
   ]
  }
 ],
 "metadata": {
  "kernelspec": {
   "display_name": ".venv",
   "language": "python",
   "name": "python3"
  },
  "language_info": {
   "codemirror_mode": {
    "name": "ipython",
    "version": 3
   },
   "file_extension": ".py",
   "mimetype": "text/x-python",
   "name": "python",
   "nbconvert_exporter": "python",
   "pygments_lexer": "ipython3",
   "version": "3.11.9"
  }
 },
 "nbformat": 4,
 "nbformat_minor": 5
}
